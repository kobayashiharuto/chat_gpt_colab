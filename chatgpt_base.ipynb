{
  "nbformat": 4,
  "nbformat_minor": 0,
  "metadata": {
    "colab": {
      "provenance": [],
      "authorship_tag": "ABX9TyMyRk3erH8v9DOo24pkIxsL",
      "include_colab_link": true
    },
    "kernelspec": {
      "name": "python3",
      "display_name": "Python 3"
    },
    "language_info": {
      "name": "python"
    }
  },
  "cells": [
    {
      "cell_type": "markdown",
      "metadata": {
        "id": "view-in-github",
        "colab_type": "text"
      },
      "source": [
        "<a href=\"https://colab.research.google.com/github/kobayashiharuto/chat_gpt_colab/blob/main/chatgpt_base.ipynb\" target=\"_parent\"><img src=\"https://colab.research.google.com/assets/colab-badge.svg\" alt=\"Open In Colab\"/></a>"
      ]
    },
    {
      "cell_type": "code",
      "source": [
        "#@title 初期設定用\n",
        "api_key = \"\"#@param {type:\"string\"}\n",
        "!pip install --upgrade pip --quiet\n",
        "!pip install setuptools wheel --quiet\n",
        "!pip install openai --quiet\n",
        "\n",
        "import openai\n",
        "openai.api_key = api_key\n",
        "\n",
        "class ChatBot:\n",
        "  system = \"\"\n",
        "  messages = []\n",
        "  temperature = 0.3\n",
        "  memorableConversationsRallyNum = 0\n",
        "\n",
        "\n",
        "  def __init__(self, system, temperature, memorableConversationsRallyNum):\n",
        "    self.messages = []\n",
        "    self.system = system\n",
        "    self.temperature = temperature\n",
        "    self.memorableConversationsRallyNum = memorableConversationsRallyNum\n",
        "\n",
        "  def reset(self):\n",
        "      self.messages = []\n",
        "\n",
        "  def chat(self, user_message):\n",
        "      self.messages.append({\"role\": \"user\", \"content\": user_message})\n",
        "\n",
        "      messages_with_system = [{'role': 'system', 'content': self.system}] + self.messages\n",
        "      response = openai.ChatCompletion.create(\n",
        "          model=\"gpt-3.5-turbo\",\n",
        "          messages=messages_with_system,\n",
        "          temperature=0.3,\n",
        "      )\n",
        "\n",
        "      ai_message = response['choices'][0]['message']['content']\n",
        "\n",
        "      self.messages.append({\"role\": \"assistant\", \"content\": ai_message})\n",
        "\n",
        "      while len(self.messages) > self.memorableConversationsRallyNum * 2:\n",
        "        self.messages.pop(0)\n",
        "\n",
        "      return ai_message"
      ],
      "metadata": {
        "cellView": "form",
        "id": "Jm5xzrItCDOI"
      },
      "execution_count": null,
      "outputs": []
    },
    {
      "cell_type": "code",
      "source": [
        "#@title 文脈を覚えないタイプ\n",
        "temperature = 0.3 #@param {type:\"number\"}\n",
        "system = \"\\u3042\\u306A\\u305F\\u306F\\u5F79\\u306B\\u7ACB\\u3064AI\\u30A2\\u30B7\\u30B9\\u30BF\\u30F3\\u30C8\\u3067\\u3059\"#@param {type:\"string\"}\n",
        "message = \"\\u3053\\u3093\\u306B\\u3061\\u306F\\uFF01\"#@param {type:\"string\"}\n",
        "\n",
        "chatBot = ChatBot(system, temperature, 0)\n",
        "\n",
        "responce = chatBot.chat(message)\n",
        "print('AI: ' + responce)"
      ],
      "metadata": {
        "cellView": "form",
        "id": "A5G0RzR2JOW1"
      },
      "execution_count": null,
      "outputs": []
    },
    {
      "cell_type": "code",
      "source": [
        "#@title 文脈を覚えるタイプ\n",
        "temperature = 0.3 #@param {type:\"number\"}\n",
        "memorableConversationsRallyNum = 1 #@param {type:\"number\"}\n",
        "system = \"\\u3042\\u306A\\u305F\\u306F\\u5F79\\u306B\\u7ACB\\u3064AI\\u30A2\\u30B7\\u30B9\\u30BF\\u30F3\\u30C8\\u3067\\u3059\"#@param {type:\"string\"}\n",
        "\n",
        "chatBot = ChatBot(system, temperature, memorableConversationsRallyNum)\n",
        "\n",
        "while True:\n",
        "  message = input('あなた: ')\n",
        "\n",
        "  responce = chatBot.chat(message)\n",
        "  print('AI: ' + responce)"
      ],
      "metadata": {
        "cellView": "form",
        "id": "5HVcIA5_GT4j"
      },
      "execution_count": null,
      "outputs": []
    }
  ]
}
